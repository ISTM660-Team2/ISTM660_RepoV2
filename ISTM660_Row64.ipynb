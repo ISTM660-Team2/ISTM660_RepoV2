{
  "nbformat": 4,
  "nbformat_minor": 0,
  "metadata": {
    "colab": {
      "provenance": [],
      "include_colab_link": true
    },
    "kernelspec": {
      "name": "python3",
      "display_name": "Python 3"
    },
    "language_info": {
      "name": "python"
    }
  },
  "cells": [
    {
      "cell_type": "markdown",
      "metadata": {
        "id": "view-in-github",
        "colab_type": "text"
      },
      "source": [
        "<a href=\"https://colab.research.google.com/github/ISTM660-Team2/ISTM660_RepoV2/blob/main/ISTM660_Row64.ipynb\" target=\"_parent\"><img src=\"https://colab.research.google.com/assets/colab-badge.svg\" alt=\"Open In Colab\"/></a>"
      ]
    },
    {
      "cell_type": "code",
      "execution_count": null,
      "metadata": {
        "colab": {
          "base_uri": "https://localhost:8080/"
        },
        "id": "3ctEfKSvhOCB",
        "outputId": "f934d669-d5b9-4844-85e6-41439bfa7a87"
      },
      "outputs": [
        {
          "output_type": "stream",
          "name": "stdout",
          "text": [
            "Hello Guys\n"
          ]
        }
      ],
      "source": [
        "print(\"Hello Guys\")"
      ]
    },
    {
      "cell_type": "code",
      "source": [
        "print(\"GG\")"
      ],
      "metadata": {
        "colab": {
          "base_uri": "https://localhost:8080/"
        },
        "id": "ckBs3UPWh4Vz",
        "outputId": "2e5356d1-78d2-4ce5-b9aa-99bb0f9948d0"
      },
      "execution_count": null,
      "outputs": [
        {
          "output_type": "stream",
          "name": "stdout",
          "text": [
            "GG\n"
          ]
        }
      ]
    },
    {
      "cell_type": "markdown",
      "source": [
        "VISUALIZATION 1 CODE"
      ],
      "metadata": {
        "id": "jBPwETGgihTX"
      }
    },
    {
      "cell_type": "code",
      "source": [
        "import matplotlib.pyplot as plt\n",
        "import pandas as pd\n",
        "import row64\n",
        "\n",
        "def LineScatter(inDf, inCol1, inCol2):\n",
        "\tcName1 = inDf.columns[inCol1]\n",
        "\tcName2 = inDf.columns[inCol2]\n",
        "\tplt.figure(figsize=(9,5))\n",
        "\tplt.margins(0, 0.03)\n",
        "\tplt.plot(inDf[cName1], inDf[cName2],marker='o')\n",
        "\n",
        "#IMPORT(\"C:\\Pepperdine\\Classes\\ISTM660-10 (Business Analytics and Intelligence)\\Assignments\\Row64\\VALE.N-Profitability and Earning Quality.csv\")\n",
        "dfIn=row64.get_dataframe(\"Dataframe3\")\n",
        "df=dfIn.copy(deep=True)\n",
        "LineScatter(df,0,1)"
      ],
      "metadata": {
        "id": "HsxMG2QHiyme"
      },
      "execution_count": null,
      "outputs": []
    },
    {
      "cell_type": "markdown",
      "source": [
        "VISUALIZATION 2 CODE"
      ],
      "metadata": {
        "id": "MWiNhdTxjVVY"
      }
    },
    {
      "cell_type": "code",
      "source": [],
      "metadata": {
        "id": "1QdEOXTFjZjH"
      },
      "execution_count": null,
      "outputs": []
    },
    {
      "cell_type": "markdown",
      "source": [
        "VISUALIZATION 3 CODE"
      ],
      "metadata": {
        "id": "VasaqmuvjaAM"
      }
    },
    {
      "cell_type": "code",
      "source": [],
      "metadata": {
        "id": "VH9pLWAijdk-"
      },
      "execution_count": null,
      "outputs": []
    }
  ]
}